{
 "cells": [
  {
   "cell_type": "code",
   "execution_count": 2,
   "metadata": {},
   "outputs": [
    {
     "name": "stdout",
     "output_type": "stream",
     "text": [
      "Train on 50000 samples, validate on 10000 samples\n",
      "Epoch 1/250\n",
      "50000/50000 [==============================] - 140s - loss: 1.8503 - acc: 0.3353 - val_loss: 1.6529 - val_acc: 0.4174\n",
      "Epoch 2/250\n",
      "50000/50000 [==============================] - 208s - loss: 1.4249 - acc: 0.4880 - val_loss: 1.3043 - val_acc: 0.5333\n",
      "Epoch 3/250\n",
      "50000/50000 [==============================] - 256s - loss: 1.2338 - acc: 0.5643 - val_loss: 1.1547 - val_acc: 0.5959\n",
      "Epoch 4/250\n",
      "50000/50000 [==============================] - 259s - loss: 1.1074 - acc: 0.6114 - val_loss: 1.1805 - val_acc: 0.5884\n",
      "Epoch 5/250\n",
      "50000/50000 [==============================] - 242s - loss: 1.0063 - acc: 0.6506 - val_loss: 1.1504 - val_acc: 0.6189\n",
      "Epoch 6/250\n",
      "50000/50000 [==============================] - 231s - loss: 0.9247 - acc: 0.6788 - val_loss: 0.9732 - val_acc: 0.6683\n",
      "Epoch 7/250\n",
      "50000/50000 [==============================] - 179s - loss: 0.8590 - acc: 0.7041 - val_loss: 0.9314 - val_acc: 0.6802\n",
      "Epoch 8/250\n",
      "50000/50000 [==============================] - 278s - loss: 0.8048 - acc: 0.7241 - val_loss: 0.9923 - val_acc: 0.6752\n",
      "Epoch 9/250\n",
      "50000/50000 [==============================] - 311s - loss: 0.7562 - acc: 0.7403 - val_loss: 1.1201 - val_acc: 0.6466\n",
      "Epoch 10/250\n",
      "49216/50000 [============================>.] - ETA: 4s - loss: 0.7105 - acc: 0.7558"
     ]
    },
    {
     "ename": "KeyboardInterrupt",
     "evalue": "",
     "output_type": "error",
     "traceback": [
      "\u001b[0;31m---------------------------------------------------------------------------\u001b[0m",
      "\u001b[0;31mKeyboardInterrupt\u001b[0m                         Traceback (most recent call last)",
      "\u001b[0;32m<ipython-input-2-5e28d5001fec>\u001b[0m in \u001b[0;36m<module>\u001b[0;34m()\u001b[0m\n\u001b[1;32m     55\u001b[0m           \u001b[0mepochs\u001b[0m\u001b[0;34m=\u001b[0m\u001b[0mepochs\u001b[0m\u001b[0;34m,\u001b[0m\u001b[0;34m\u001b[0m\u001b[0m\n\u001b[1;32m     56\u001b[0m           \u001b[0mvalidation_data\u001b[0m\u001b[0;34m=\u001b[0m\u001b[0;34m(\u001b[0m\u001b[0mx_test\u001b[0m\u001b[0;34m,\u001b[0m \u001b[0my_test\u001b[0m\u001b[0;34m)\u001b[0m\u001b[0;34m,\u001b[0m\u001b[0;34m\u001b[0m\u001b[0m\n\u001b[0;32m---> 57\u001b[0;31m           shuffle=True)\n\u001b[0m\u001b[1;32m     58\u001b[0m \u001b[0;34m\u001b[0m\u001b[0m\n\u001b[1;32m     59\u001b[0m \u001b[0mmodel\u001b[0m\u001b[0;34m.\u001b[0m\u001b[0msave\u001b[0m\u001b[0;34m(\u001b[0m\u001b[0;34m'cifar10_base'\u001b[0m\u001b[0;34m)\u001b[0m\u001b[0;34m\u001b[0m\u001b[0m\n",
      "\u001b[0;32m/home/gaspar/miniconda3/lib/python3.6/site-packages/keras/models.py\u001b[0m in \u001b[0;36mfit\u001b[0;34m(self, x, y, batch_size, epochs, verbose, callbacks, validation_split, validation_data, shuffle, class_weight, sample_weight, initial_epoch, **kwargs)\u001b[0m\n\u001b[1;32m    868\u001b[0m                               \u001b[0mclass_weight\u001b[0m\u001b[0;34m=\u001b[0m\u001b[0mclass_weight\u001b[0m\u001b[0;34m,\u001b[0m\u001b[0;34m\u001b[0m\u001b[0m\n\u001b[1;32m    869\u001b[0m                               \u001b[0msample_weight\u001b[0m\u001b[0;34m=\u001b[0m\u001b[0msample_weight\u001b[0m\u001b[0;34m,\u001b[0m\u001b[0;34m\u001b[0m\u001b[0m\n\u001b[0;32m--> 870\u001b[0;31m                               initial_epoch=initial_epoch)\n\u001b[0m\u001b[1;32m    871\u001b[0m \u001b[0;34m\u001b[0m\u001b[0m\n\u001b[1;32m    872\u001b[0m     def evaluate(self, x, y, batch_size=32, verbose=1,\n",
      "\u001b[0;32m/home/gaspar/miniconda3/lib/python3.6/site-packages/keras/engine/training.py\u001b[0m in \u001b[0;36mfit\u001b[0;34m(self, x, y, batch_size, epochs, verbose, callbacks, validation_split, validation_data, shuffle, class_weight, sample_weight, initial_epoch, **kwargs)\u001b[0m\n\u001b[1;32m   1505\u001b[0m                               \u001b[0mval_f\u001b[0m\u001b[0;34m=\u001b[0m\u001b[0mval_f\u001b[0m\u001b[0;34m,\u001b[0m \u001b[0mval_ins\u001b[0m\u001b[0;34m=\u001b[0m\u001b[0mval_ins\u001b[0m\u001b[0;34m,\u001b[0m \u001b[0mshuffle\u001b[0m\u001b[0;34m=\u001b[0m\u001b[0mshuffle\u001b[0m\u001b[0;34m,\u001b[0m\u001b[0;34m\u001b[0m\u001b[0m\n\u001b[1;32m   1506\u001b[0m                               \u001b[0mcallback_metrics\u001b[0m\u001b[0;34m=\u001b[0m\u001b[0mcallback_metrics\u001b[0m\u001b[0;34m,\u001b[0m\u001b[0;34m\u001b[0m\u001b[0m\n\u001b[0;32m-> 1507\u001b[0;31m                               initial_epoch=initial_epoch)\n\u001b[0m\u001b[1;32m   1508\u001b[0m \u001b[0;34m\u001b[0m\u001b[0m\n\u001b[1;32m   1509\u001b[0m     \u001b[0;32mdef\u001b[0m \u001b[0mevaluate\u001b[0m\u001b[0;34m(\u001b[0m\u001b[0mself\u001b[0m\u001b[0;34m,\u001b[0m \u001b[0mx\u001b[0m\u001b[0;34m,\u001b[0m \u001b[0my\u001b[0m\u001b[0;34m,\u001b[0m \u001b[0mbatch_size\u001b[0m\u001b[0;34m=\u001b[0m\u001b[0;36m32\u001b[0m\u001b[0;34m,\u001b[0m \u001b[0mverbose\u001b[0m\u001b[0;34m=\u001b[0m\u001b[0;36m1\u001b[0m\u001b[0;34m,\u001b[0m \u001b[0msample_weight\u001b[0m\u001b[0;34m=\u001b[0m\u001b[0;32mNone\u001b[0m\u001b[0;34m)\u001b[0m\u001b[0;34m:\u001b[0m\u001b[0;34m\u001b[0m\u001b[0m\n",
      "\u001b[0;32m/home/gaspar/miniconda3/lib/python3.6/site-packages/keras/engine/training.py\u001b[0m in \u001b[0;36m_fit_loop\u001b[0;34m(self, f, ins, out_labels, batch_size, epochs, verbose, callbacks, val_f, val_ins, shuffle, callback_metrics, initial_epoch)\u001b[0m\n\u001b[1;32m   1154\u001b[0m                 \u001b[0mbatch_logs\u001b[0m\u001b[0;34m[\u001b[0m\u001b[0;34m'size'\u001b[0m\u001b[0;34m]\u001b[0m \u001b[0;34m=\u001b[0m \u001b[0mlen\u001b[0m\u001b[0;34m(\u001b[0m\u001b[0mbatch_ids\u001b[0m\u001b[0;34m)\u001b[0m\u001b[0;34m\u001b[0m\u001b[0m\n\u001b[1;32m   1155\u001b[0m                 \u001b[0mcallbacks\u001b[0m\u001b[0;34m.\u001b[0m\u001b[0mon_batch_begin\u001b[0m\u001b[0;34m(\u001b[0m\u001b[0mbatch_index\u001b[0m\u001b[0;34m,\u001b[0m \u001b[0mbatch_logs\u001b[0m\u001b[0;34m)\u001b[0m\u001b[0;34m\u001b[0m\u001b[0m\n\u001b[0;32m-> 1156\u001b[0;31m                 \u001b[0mouts\u001b[0m \u001b[0;34m=\u001b[0m \u001b[0mf\u001b[0m\u001b[0;34m(\u001b[0m\u001b[0mins_batch\u001b[0m\u001b[0;34m)\u001b[0m\u001b[0;34m\u001b[0m\u001b[0m\n\u001b[0m\u001b[1;32m   1157\u001b[0m                 \u001b[0;32mif\u001b[0m \u001b[0;32mnot\u001b[0m \u001b[0misinstance\u001b[0m\u001b[0;34m(\u001b[0m\u001b[0mouts\u001b[0m\u001b[0;34m,\u001b[0m \u001b[0mlist\u001b[0m\u001b[0;34m)\u001b[0m\u001b[0;34m:\u001b[0m\u001b[0;34m\u001b[0m\u001b[0m\n\u001b[1;32m   1158\u001b[0m                     \u001b[0mouts\u001b[0m \u001b[0;34m=\u001b[0m \u001b[0;34m[\u001b[0m\u001b[0mouts\u001b[0m\u001b[0;34m]\u001b[0m\u001b[0;34m\u001b[0m\u001b[0m\n",
      "\u001b[0;32m/home/gaspar/miniconda3/lib/python3.6/site-packages/keras/backend/tensorflow_backend.py\u001b[0m in \u001b[0;36m__call__\u001b[0;34m(self, inputs)\u001b[0m\n\u001b[1;32m   2267\u001b[0m         updated = session.run(self.outputs + [self.updates_op],\n\u001b[1;32m   2268\u001b[0m                               \u001b[0mfeed_dict\u001b[0m\u001b[0;34m=\u001b[0m\u001b[0mfeed_dict\u001b[0m\u001b[0;34m,\u001b[0m\u001b[0;34m\u001b[0m\u001b[0m\n\u001b[0;32m-> 2269\u001b[0;31m                               **self.session_kwargs)\n\u001b[0m\u001b[1;32m   2270\u001b[0m         \u001b[0;32mreturn\u001b[0m \u001b[0mupdated\u001b[0m\u001b[0;34m[\u001b[0m\u001b[0;34m:\u001b[0m\u001b[0mlen\u001b[0m\u001b[0;34m(\u001b[0m\u001b[0mself\u001b[0m\u001b[0;34m.\u001b[0m\u001b[0moutputs\u001b[0m\u001b[0;34m)\u001b[0m\u001b[0;34m]\u001b[0m\u001b[0;34m\u001b[0m\u001b[0m\n\u001b[1;32m   2271\u001b[0m \u001b[0;34m\u001b[0m\u001b[0m\n",
      "\u001b[0;32m/home/gaspar/miniconda3/lib/python3.6/site-packages/tensorflow/python/client/session.py\u001b[0m in \u001b[0;36mrun\u001b[0;34m(self, fetches, feed_dict, options, run_metadata)\u001b[0m\n\u001b[1;32m    893\u001b[0m     \u001b[0;32mtry\u001b[0m\u001b[0;34m:\u001b[0m\u001b[0;34m\u001b[0m\u001b[0m\n\u001b[1;32m    894\u001b[0m       result = self._run(None, fetches, feed_dict, options_ptr,\n\u001b[0;32m--> 895\u001b[0;31m                          run_metadata_ptr)\n\u001b[0m\u001b[1;32m    896\u001b[0m       \u001b[0;32mif\u001b[0m \u001b[0mrun_metadata\u001b[0m\u001b[0;34m:\u001b[0m\u001b[0;34m\u001b[0m\u001b[0m\n\u001b[1;32m    897\u001b[0m         \u001b[0mproto_data\u001b[0m \u001b[0;34m=\u001b[0m \u001b[0mtf_session\u001b[0m\u001b[0;34m.\u001b[0m\u001b[0mTF_GetBuffer\u001b[0m\u001b[0;34m(\u001b[0m\u001b[0mrun_metadata_ptr\u001b[0m\u001b[0;34m)\u001b[0m\u001b[0;34m\u001b[0m\u001b[0m\n",
      "\u001b[0;32m/home/gaspar/miniconda3/lib/python3.6/site-packages/tensorflow/python/client/session.py\u001b[0m in \u001b[0;36m_run\u001b[0;34m(self, handle, fetches, feed_dict, options, run_metadata)\u001b[0m\n\u001b[1;32m   1122\u001b[0m     \u001b[0;32mif\u001b[0m \u001b[0mfinal_fetches\u001b[0m \u001b[0;32mor\u001b[0m \u001b[0mfinal_targets\u001b[0m \u001b[0;32mor\u001b[0m \u001b[0;34m(\u001b[0m\u001b[0mhandle\u001b[0m \u001b[0;32mand\u001b[0m \u001b[0mfeed_dict_tensor\u001b[0m\u001b[0;34m)\u001b[0m\u001b[0;34m:\u001b[0m\u001b[0;34m\u001b[0m\u001b[0m\n\u001b[1;32m   1123\u001b[0m       results = self._do_run(handle, final_targets, final_fetches,\n\u001b[0;32m-> 1124\u001b[0;31m                              feed_dict_tensor, options, run_metadata)\n\u001b[0m\u001b[1;32m   1125\u001b[0m     \u001b[0;32melse\u001b[0m\u001b[0;34m:\u001b[0m\u001b[0;34m\u001b[0m\u001b[0m\n\u001b[1;32m   1126\u001b[0m       \u001b[0mresults\u001b[0m \u001b[0;34m=\u001b[0m \u001b[0;34m[\u001b[0m\u001b[0;34m]\u001b[0m\u001b[0;34m\u001b[0m\u001b[0m\n",
      "\u001b[0;32m/home/gaspar/miniconda3/lib/python3.6/site-packages/tensorflow/python/client/session.py\u001b[0m in \u001b[0;36m_do_run\u001b[0;34m(self, handle, target_list, fetch_list, feed_dict, options, run_metadata)\u001b[0m\n\u001b[1;32m   1319\u001b[0m     \u001b[0;32mif\u001b[0m \u001b[0mhandle\u001b[0m \u001b[0;32mis\u001b[0m \u001b[0;32mNone\u001b[0m\u001b[0;34m:\u001b[0m\u001b[0;34m\u001b[0m\u001b[0m\n\u001b[1;32m   1320\u001b[0m       return self._do_call(_run_fn, self._session, feeds, fetches, targets,\n\u001b[0;32m-> 1321\u001b[0;31m                            options, run_metadata)\n\u001b[0m\u001b[1;32m   1322\u001b[0m     \u001b[0;32melse\u001b[0m\u001b[0;34m:\u001b[0m\u001b[0;34m\u001b[0m\u001b[0m\n\u001b[1;32m   1323\u001b[0m       \u001b[0;32mreturn\u001b[0m \u001b[0mself\u001b[0m\u001b[0;34m.\u001b[0m\u001b[0m_do_call\u001b[0m\u001b[0;34m(\u001b[0m\u001b[0m_prun_fn\u001b[0m\u001b[0;34m,\u001b[0m \u001b[0mself\u001b[0m\u001b[0;34m.\u001b[0m\u001b[0m_session\u001b[0m\u001b[0;34m,\u001b[0m \u001b[0mhandle\u001b[0m\u001b[0;34m,\u001b[0m \u001b[0mfeeds\u001b[0m\u001b[0;34m,\u001b[0m \u001b[0mfetches\u001b[0m\u001b[0;34m)\u001b[0m\u001b[0;34m\u001b[0m\u001b[0m\n",
      "\u001b[0;32m/home/gaspar/miniconda3/lib/python3.6/site-packages/tensorflow/python/client/session.py\u001b[0m in \u001b[0;36m_do_call\u001b[0;34m(self, fn, *args)\u001b[0m\n\u001b[1;32m   1325\u001b[0m   \u001b[0;32mdef\u001b[0m \u001b[0m_do_call\u001b[0m\u001b[0;34m(\u001b[0m\u001b[0mself\u001b[0m\u001b[0;34m,\u001b[0m \u001b[0mfn\u001b[0m\u001b[0;34m,\u001b[0m \u001b[0;34m*\u001b[0m\u001b[0margs\u001b[0m\u001b[0;34m)\u001b[0m\u001b[0;34m:\u001b[0m\u001b[0;34m\u001b[0m\u001b[0m\n\u001b[1;32m   1326\u001b[0m     \u001b[0;32mtry\u001b[0m\u001b[0;34m:\u001b[0m\u001b[0;34m\u001b[0m\u001b[0m\n\u001b[0;32m-> 1327\u001b[0;31m       \u001b[0;32mreturn\u001b[0m \u001b[0mfn\u001b[0m\u001b[0;34m(\u001b[0m\u001b[0;34m*\u001b[0m\u001b[0margs\u001b[0m\u001b[0;34m)\u001b[0m\u001b[0;34m\u001b[0m\u001b[0m\n\u001b[0m\u001b[1;32m   1328\u001b[0m     \u001b[0;32mexcept\u001b[0m \u001b[0merrors\u001b[0m\u001b[0;34m.\u001b[0m\u001b[0mOpError\u001b[0m \u001b[0;32mas\u001b[0m \u001b[0me\u001b[0m\u001b[0;34m:\u001b[0m\u001b[0;34m\u001b[0m\u001b[0m\n\u001b[1;32m   1329\u001b[0m       \u001b[0mmessage\u001b[0m \u001b[0;34m=\u001b[0m \u001b[0mcompat\u001b[0m\u001b[0;34m.\u001b[0m\u001b[0mas_text\u001b[0m\u001b[0;34m(\u001b[0m\u001b[0me\u001b[0m\u001b[0;34m.\u001b[0m\u001b[0mmessage\u001b[0m\u001b[0;34m)\u001b[0m\u001b[0;34m\u001b[0m\u001b[0m\n",
      "\u001b[0;32m/home/gaspar/miniconda3/lib/python3.6/site-packages/tensorflow/python/client/session.py\u001b[0m in \u001b[0;36m_run_fn\u001b[0;34m(session, feed_dict, fetch_list, target_list, options, run_metadata)\u001b[0m\n\u001b[1;32m   1304\u001b[0m           return tf_session.TF_Run(session, options,\n\u001b[1;32m   1305\u001b[0m                                    \u001b[0mfeed_dict\u001b[0m\u001b[0;34m,\u001b[0m \u001b[0mfetch_list\u001b[0m\u001b[0;34m,\u001b[0m \u001b[0mtarget_list\u001b[0m\u001b[0;34m,\u001b[0m\u001b[0;34m\u001b[0m\u001b[0m\n\u001b[0;32m-> 1306\u001b[0;31m                                    status, run_metadata)\n\u001b[0m\u001b[1;32m   1307\u001b[0m \u001b[0;34m\u001b[0m\u001b[0m\n\u001b[1;32m   1308\u001b[0m     \u001b[0;32mdef\u001b[0m \u001b[0m_prun_fn\u001b[0m\u001b[0;34m(\u001b[0m\u001b[0msession\u001b[0m\u001b[0;34m,\u001b[0m \u001b[0mhandle\u001b[0m\u001b[0;34m,\u001b[0m \u001b[0mfeed_dict\u001b[0m\u001b[0;34m,\u001b[0m \u001b[0mfetch_list\u001b[0m\u001b[0;34m)\u001b[0m\u001b[0;34m:\u001b[0m\u001b[0;34m\u001b[0m\u001b[0m\n",
      "\u001b[0;31mKeyboardInterrupt\u001b[0m: "
     ]
    }
   ],
   "source": [
    "'''Train a simple deep CNN on the CIFAR10 small images dataset.\n",
    "GPU run command with Theano backend (with TensorFlow, the GPU is automatically used):\n",
    "    THEANO_FLAGS=mode=FAST_RUN,device=gpu,floatx=float32 python cifar10_cnn.py\n",
    "It gets down to 0.65 test logloss in 25 epochs, and down to 0.55 after 50 epochs.\n",
    "(it's still underfitting at that point, though).\n",
    "'''\n",
    "\n",
    "from __future__ import print_function\n",
    "import keras\n",
    "from keras.datasets import cifar10\n",
    "from keras.preprocessing.image import ImageDataGenerator\n",
    "from keras.models import Sequential\n",
    "from keras.layers import Dense, Dropout, Activation, Flatten\n",
    "from keras.layers import Conv2D, MaxPooling2D, GlobalAveragePooling2D\n",
    "\n",
    "import os\n",
    "import pickle\n",
    "import numpy as np\n",
    "\n",
    "batch_size = 32\n",
    "num_classes = 10\n",
    "epochs = 250\n",
    "\n",
    "# The data, shuffled and split between train and test sets:\n",
    "(x_train, y_train), (x_test, y_test) = cifar10.load_data()\n",
    "x_train = x_train.astype('float32')\n",
    "x_test = x_test.astype('float32')\n",
    "x_train /= 255\n",
    "x_test /= 255\n",
    "\n",
    "# Convert class vectors to binary class matrices.\n",
    "y_train = keras.utils.to_categorical(y_train, num_classes)\n",
    "y_test = keras.utils.to_categorical(y_test, num_classes)\n",
    "\n",
    "model = Sequential()\n",
    "\n",
    "model.add(Conv2D(32, (3, 3), activation='relu', use_bias=False, input_shape=x_train.shape[1:]))\n",
    "model.add(Conv2D(32, (3, 3), activation='relu', use_bias=False))\n",
    "model.add(Conv2D(32, (3, 3), activation='relu', use_bias=False, strides=(2,2)))\n",
    "\n",
    "model.add(Conv2D(64, (3, 3), activation='relu', use_bias=False))\n",
    "model.add(Conv2D(64, (3, 3), activation='relu', use_bias=False))\n",
    "model.add(Conv2D(64, (3, 3), activation='relu', use_bias=False, strides=(2,2)))\n",
    "\n",
    "model.add(Conv2D(num_classes, (1, 1), activation='relu', use_bias=False))\n",
    "model.add(GlobalAveragePooling2D())\n",
    "model.add(Activation('softmax'))\n",
    "\n",
    "model.compile(loss='categorical_crossentropy',\n",
    "              optimizer='rmsprop',\n",
    "              metrics=['accuracy'])\n",
    "\n",
    "model.fit(x_train, y_train,\n",
    "          batch_size=batch_size,\n",
    "          epochs=epochs,\n",
    "          validation_data=(x_test, y_test),\n",
    "          shuffle=True)\n",
    "\n",
    "model.save('cifar10_base')\n",
    "score = model.evaluate(x_test, y_test, verbose=0)\n",
    "print('Test loss:', score[0])\n",
    "print('Test accuracy:', score[1])"
   ]
  },
  {
   "cell_type": "code",
   "execution_count": 40,
   "metadata": {
    "collapsed": true
   },
   "outputs": [],
   "source": [
    "model.save('cifar10_globalavg_25ep')\n",
    "# model.layers"
   ]
  },
  {
   "cell_type": "code",
   "execution_count": 34,
   "metadata": {},
   "outputs": [
    {
     "data": {
      "text/plain": [
       "(1, 3, 3, 3, 32)"
      ]
     },
     "execution_count": 34,
     "metadata": {},
     "output_type": "execute_result"
    }
   ],
   "source": [
    "np.array(model.layers[0].get_weights()).shape"
   ]
  },
  {
   "cell_type": "code",
   "execution_count": 38,
   "metadata": {},
   "outputs": [
    {
     "data": {
      "text/plain": [
       "(1, 3, 3, 32, 64)"
      ]
     },
     "execution_count": 38,
     "metadata": {},
     "output_type": "execute_result"
    }
   ],
   "source": [
    "np.array(model.layers[4].get_weights()).shape"
   ]
  },
  {
   "cell_type": "code",
   "execution_count": 33,
   "metadata": {},
   "outputs": [
    {
     "data": {
      "text/plain": [
       "array([[[[[  2.26638600e-01,  -3.66327196e-01,  -2.70816367e-02, ...,\n",
       "            -3.30585986e-01,  -4.42860007e-01,   1.03598922e-01],\n",
       "          [  2.51502812e-01,   7.30787888e-02,   2.46326759e-01, ...,\n",
       "             2.29454368e-01,  -1.74416155e-01,   6.97132722e-02],\n",
       "          [  5.18631637e-02,   7.32588321e-02,   1.89953238e-01, ...,\n",
       "            -2.94342786e-01,  -1.11988463e-01,  -3.85406911e-01],\n",
       "          ..., \n",
       "          [  6.06607944e-02,  -7.42304385e-01,  -6.87854216e-02, ...,\n",
       "            -1.34996414e-01,   9.88706797e-02,  -2.40444481e-01],\n",
       "          [  3.60393859e-02,  -1.76986724e-01,  -1.24336556e-02, ...,\n",
       "            -6.89748256e-03,   2.42830172e-01,  -2.89227486e-01],\n",
       "          [  4.99344654e-02,   1.93324104e-01,   4.41755839e-02, ...,\n",
       "             1.79024056e-01,  -3.02707702e-02,  -2.18332157e-01]],\n",
       "\n",
       "         [[  3.11181664e-01,  -3.30501348e-02,  -1.55259326e-01, ...,\n",
       "            -3.11373055e-01,  -3.20470840e-01,   2.30225235e-01],\n",
       "          [  1.89826623e-01,  -2.50285953e-01,  -6.80130869e-02, ...,\n",
       "            -2.57819325e-01,   4.28230725e-02,   7.19873756e-02],\n",
       "          [  5.40883839e-02,  -9.49246734e-02,  -1.50146186e-01, ...,\n",
       "            -2.21160635e-01,  -1.45461053e-01,  -3.19579720e-01],\n",
       "          ..., \n",
       "          [  1.20879158e-01,  -9.46214497e-02,   3.56942229e-02, ...,\n",
       "             7.19362870e-02,   8.26233923e-02,  -2.47988790e-01],\n",
       "          [ -3.56993377e-01,  -3.71036857e-01,   4.84229177e-02, ...,\n",
       "             5.83844520e-02,  -4.94668707e-02,  -2.98405230e-01],\n",
       "          [  1.03047684e-01,  -9.93923768e-02,   8.99870396e-02, ...,\n",
       "            -3.69258709e-02,   6.66971877e-02,  -3.18114460e-01]],\n",
       "\n",
       "         [[  1.18541144e-01,  -1.46358624e-01,   1.43901885e-01, ...,\n",
       "            -4.39405851e-02,  -3.98883075e-01,   1.08679824e-01],\n",
       "          [  1.04656599e-01,   1.43928498e-01,   2.22249832e-02, ...,\n",
       "            -6.34581447e-02,   4.00805585e-02,   9.56897959e-02],\n",
       "          [  2.06148648e-03,  -1.76439896e-01,   8.94547701e-02, ...,\n",
       "             1.18565395e-01,  -1.14008524e-01,  -3.17851841e-01],\n",
       "          ..., \n",
       "          [  2.21014693e-02,  -1.03474252e-01,   1.67996645e-01, ...,\n",
       "             1.61981836e-01,  -1.68776244e-01,  -3.55693519e-01],\n",
       "          [ -2.23622113e-01,   4.80698012e-02,  -1.71604365e-01, ...,\n",
       "             4.30217162e-02,  -1.53485447e-01,  -9.45927575e-02],\n",
       "          [  3.26450430e-02,   2.95558888e-02,  -9.92675722e-02, ...,\n",
       "            -3.36542614e-02,   9.85438079e-02,  -1.12207167e-01]]],\n",
       "\n",
       "\n",
       "        [[[  4.14120942e-01,  -3.92006040e-01,  -1.29635200e-01, ...,\n",
       "            -3.18999618e-01,  -7.09689856e-02,  -7.60043738e-03],\n",
       "          [  1.04445256e-01,  -3.68776709e-01,   2.06257761e-01, ...,\n",
       "             1.90961644e-01,  -2.95712471e-01,  -3.52315642e-02],\n",
       "          [  1.98893145e-01,  -2.17356533e-01,   1.63717002e-01, ...,\n",
       "            -3.73069853e-01,  -3.76505479e-02,   2.07615241e-01],\n",
       "          ..., \n",
       "          [  1.67440191e-01,  -3.77456516e-01,   2.79454165e-04, ...,\n",
       "            -1.22763984e-01,   1.05161620e-02,   1.23441726e-01],\n",
       "          [ -9.00998861e-02,  -3.31147224e-01,  -5.35575636e-02, ...,\n",
       "            -1.00731917e-01,  -4.55141552e-02,   4.06991355e-02],\n",
       "          [  7.26883560e-02,   1.59039591e-02,   4.46664244e-02, ...,\n",
       "             9.00379494e-02,  -3.87557447e-02,  -1.82552077e-02]],\n",
       "\n",
       "         [[  3.69063020e-01,  -2.24388197e-01,  -2.91683108e-01, ...,\n",
       "            -5.67553282e-01,  -2.30321765e-01,  -6.30391687e-02],\n",
       "          [  1.45629093e-01,  -2.10129529e-01,  -2.55025893e-01, ...,\n",
       "            -3.04073572e-01,   1.46572113e-01,   1.19705789e-01],\n",
       "          [  2.73669630e-01,   3.86979170e-02,  -2.86362827e-01, ...,\n",
       "             4.22101393e-02,  -1.03209078e-01,   1.48542494e-01],\n",
       "          ..., \n",
       "          [  1.91339273e-02,   7.90528283e-02,  -9.47591662e-02, ...,\n",
       "             1.11514464e-01,   6.03773296e-02,   1.56103835e-01],\n",
       "          [  2.40209084e-02,  -4.80890647e-02,   4.61222157e-02, ...,\n",
       "             3.46562937e-02,   1.19093485e-01,   3.34556513e-02],\n",
       "          [  9.04861242e-02,  -1.98839888e-01,   1.01687424e-01, ...,\n",
       "            -1.59513965e-01,   8.93943682e-02,   1.11815847e-01]],\n",
       "\n",
       "         [[  3.85337561e-01,  -3.26843470e-01,  -6.69130534e-02, ...,\n",
       "            -2.37263829e-01,  -2.15118945e-01,  -2.94650812e-02],\n",
       "          [  1.05687812e-01,   3.74439210e-02,   6.25494868e-03, ...,\n",
       "             5.15325777e-02,  -4.41026352e-02,   1.51751414e-01],\n",
       "          [  8.25602561e-02,  -1.77066043e-01,   2.45796666e-01, ...,\n",
       "             1.67720631e-01,   3.42860036e-02,   9.07851085e-02],\n",
       "          ..., \n",
       "          [  1.40356258e-01,   5.17372079e-02,   1.66670993e-01, ...,\n",
       "             5.90910241e-02,   6.94327876e-02,   1.05448142e-01],\n",
       "          [  1.10554375e-01,   7.58561343e-02,  -1.65474042e-01, ...,\n",
       "             1.04459301e-01,   3.33962709e-01,   6.58478737e-02],\n",
       "          [ -2.35963371e-02,   8.14572349e-02,  -1.62545398e-01, ...,\n",
       "            -2.17374966e-01,   7.74744228e-02,   5.63551560e-02]]],\n",
       "\n",
       "\n",
       "        [[[ -2.05005202e-02,  -3.00293744e-01,   1.28242403e-01, ...,\n",
       "            -2.15477258e-01,  -1.33858338e-01,  -8.77786875e-02],\n",
       "          [  6.89464435e-02,  -2.45034397e-01,   2.07575291e-01, ...,\n",
       "             1.16201952e-01,   2.89037585e-01,  -1.54763073e-01],\n",
       "          [ -7.07884803e-02,   4.70925588e-03,  -1.65396016e-02, ...,\n",
       "            -4.30434972e-01,  -3.82756978e-01,   2.04333052e-01],\n",
       "          ..., \n",
       "          [ -1.83056548e-01,  -4.08939682e-02,  -2.31730919e-02, ...,\n",
       "            -2.09135339e-01,  -1.69872969e-01,   1.99879277e-02],\n",
       "          [ -1.84515521e-01,   1.06798606e-02,  -1.06451891e-01, ...,\n",
       "            -2.03702554e-01,  -1.31853610e-01,   5.98848276e-02],\n",
       "          [  3.32925096e-02,  -7.29171410e-02,   1.71967242e-02, ...,\n",
       "             1.60705224e-02,   9.60083529e-02,   9.80963707e-02]],\n",
       "\n",
       "         [[  6.65483251e-02,  -6.58848882e-02,  -3.84252369e-02, ...,\n",
       "            -4.20691699e-01,  -1.62848517e-01,   4.28900644e-02],\n",
       "          [ -2.05959767e-01,   1.53737860e-02,  -2.61273831e-01, ...,\n",
       "            -1.73338681e-01,   6.70327172e-02,  -1.52059913e-01],\n",
       "          [  7.01126382e-02,   8.72006789e-02,  -1.80090249e-01, ...,\n",
       "            -1.34311318e-01,  -6.10553548e-02,   1.75070614e-01],\n",
       "          ..., \n",
       "          [ -2.07404599e-01,   4.06380184e-02,  -2.53806412e-01, ...,\n",
       "             4.53502908e-02,   7.66229182e-02,  -2.20394321e-02],\n",
       "          [ -1.26224265e-01,  -6.22218475e-02,   5.03891706e-02, ...,\n",
       "             3.04038394e-02,   3.40851098e-02,   3.73925865e-02],\n",
       "          [ -9.25059617e-02,   5.25538661e-02,   9.60066915e-02, ...,\n",
       "            -1.53924167e-01,  -3.32302749e-02,  -1.77804902e-02]],\n",
       "\n",
       "         [[  8.15831721e-02,  -1.74324289e-01,   1.73975006e-01, ...,\n",
       "            -8.19332246e-03,  -2.57969588e-01,  -8.19973946e-02],\n",
       "          [ -4.52209681e-01,   4.11985628e-03,   1.08981222e-01, ...,\n",
       "            -1.25880450e-01,  -1.22404866e-01,  -1.41867086e-01],\n",
       "          [  1.58364505e-01,   7.02624326e-04,   2.16051504e-01, ...,\n",
       "             1.51745945e-01,   2.97383219e-02,   1.41059503e-01],\n",
       "          ..., \n",
       "          [  1.83756836e-03,  -1.24691240e-02,   1.26876369e-01, ...,\n",
       "            -3.32488939e-02,   5.68142161e-02,  -8.40758011e-02],\n",
       "          [ -1.54516682e-01,  -7.55086467e-02,  -3.66040990e-02, ...,\n",
       "             1.22784404e-02,   1.58868328e-01,   1.17759351e-02],\n",
       "          [ -1.67018875e-01,   4.74363603e-02,  -1.43852472e-01, ...,\n",
       "            -4.16044563e-01,  -1.02662034e-01,   3.12338467e-03]]]]], dtype=float32)"
      ]
     },
     "execution_count": 33,
     "metadata": {},
     "output_type": "execute_result"
    }
   ],
   "source": [
    "np.array(model.layers[1].get_weights())"
   ]
  },
  {
   "cell_type": "code",
   "execution_count": null,
   "metadata": {
    "collapsed": true
   },
   "outputs": [],
   "source": []
  }
 ],
 "metadata": {
  "kernelspec": {
   "display_name": "Python 3",
   "language": "python",
   "name": "python3"
  },
  "language_info": {
   "codemirror_mode": {
    "name": "ipython",
    "version": 3
   },
   "file_extension": ".py",
   "mimetype": "text/x-python",
   "name": "python",
   "nbconvert_exporter": "python",
   "pygments_lexer": "ipython3",
   "version": "3.6.1"
  }
 },
 "nbformat": 4,
 "nbformat_minor": 2
}
